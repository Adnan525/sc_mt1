{
 "cells": [
  {
   "cell_type": "code",
   "execution_count": null,
   "id": "9aa611f8",
   "metadata": {
    "id": "9aa611f8"
   },
   "outputs": [],
   "source": [
    "import warnings\n",
    "warnings.filterwarnings(\"ignore\")"
   ]
  },
  {
   "cell_type": "code",
   "execution_count": null,
   "id": "hhPWW0B68KEt",
   "metadata": {
    "colab": {
     "base_uri": "https://localhost:8080/"
    },
    "executionInfo": {
     "elapsed": 45790,
     "status": "ok",
     "timestamp": 1694078435164,
     "user": {
      "displayName": "",
      "userId": ""
     },
     "user_tz": -600
    },
    "id": "hhPWW0B68KEt",
    "outputId": "13433a20-29ed-4886-cc71-61dac747e872"
   },
   "outputs": [
    {
     "name": "stdout",
     "output_type": "stream",
     "text": [
      "Mounted at /content/drive\n"
     ]
    }
   ],
   "source": [
    "# mount google drive to work in colab\n",
    "# from google.colab import drive\n",
    "# drive.mount('/content/drive')"
   ]
  },
  {
   "cell_type": "code",
   "execution_count": null,
   "id": "35a9a596",
   "metadata": {
    "id": "35a9a596"
   },
   "outputs": [],
   "source": [
    "import numpy as np\n",
    "import pandas as pd\n",
    "import tensorflow as tf\n",
    "from tensorflow import keras\n",
    "from sklearn.model_selection import train_test_split\n",
    "from sklearn.metrics import accuracy_score"
   ]
  },
  {
   "cell_type": "code",
   "execution_count": null,
   "id": "ba37e300",
   "metadata": {
    "colab": {
     "base_uri": "https://localhost:8080/",
     "height": 206
    },
    "executionInfo": {
     "elapsed": 516,
     "status": "ok",
     "timestamp": 1694078690224,
     "user": {
      "displayName": "",
      "userId": ""
     },
     "user_tz": -600
    },
    "id": "ba37e300",
    "outputId": "f56b29d3-51bd-4792-f7a3-7162204e96a8"
   },
   "outputs": [
    {
     "data": {
      "text/html": [
       "\n",
       "  <div id=\"df-ac71bc42-8d3c-4538-9e59-09e94e8635fe\" class=\"colab-df-container\">\n",
       "    <div>\n",
       "<style scoped>\n",
       "    .dataframe tbody tr th:only-of-type {\n",
       "        vertical-align: middle;\n",
       "    }\n",
       "\n",
       "    .dataframe tbody tr th {\n",
       "        vertical-align: top;\n",
       "    }\n",
       "\n",
       "    .dataframe thead th {\n",
       "        text-align: right;\n",
       "    }\n",
       "</style>\n",
       "<table border=\"1\" class=\"dataframe\">\n",
       "  <thead>\n",
       "    <tr style=\"text-align: right;\">\n",
       "      <th></th>\n",
       "      <th>0</th>\n",
       "      <th>1</th>\n",
       "      <th>2</th>\n",
       "      <th>3</th>\n",
       "      <th>4</th>\n",
       "      <th>5</th>\n",
       "      <th>6</th>\n",
       "      <th>7</th>\n",
       "      <th>8</th>\n",
       "      <th>9</th>\n",
       "      <th>10</th>\n",
       "      <th>11</th>\n",
       "      <th>12</th>\n",
       "      <th>13</th>\n",
       "      <th>14</th>\n",
       "      <th>15</th>\n",
       "      <th>16</th>\n",
       "    </tr>\n",
       "  </thead>\n",
       "  <tbody>\n",
       "    <tr>\n",
       "      <th>0</th>\n",
       "      <td>0.0</td>\n",
       "      <td>1.0</td>\n",
       "      <td>0.0</td>\n",
       "      <td>1.0</td>\n",
       "      <td>1.0</td>\n",
       "      <td>1.0</td>\n",
       "      <td>0.0</td>\n",
       "      <td>0.0</td>\n",
       "      <td>0.0</td>\n",
       "      <td>1.0</td>\n",
       "      <td>0.5</td>\n",
       "      <td>1.0</td>\n",
       "      <td>1.0</td>\n",
       "      <td>1.0</td>\n",
       "      <td>0.0</td>\n",
       "      <td>1.0</td>\n",
       "      <td>0</td>\n",
       "    </tr>\n",
       "    <tr>\n",
       "      <th>1</th>\n",
       "      <td>0.0</td>\n",
       "      <td>1.0</td>\n",
       "      <td>0.0</td>\n",
       "      <td>1.0</td>\n",
       "      <td>1.0</td>\n",
       "      <td>1.0</td>\n",
       "      <td>0.0</td>\n",
       "      <td>0.0</td>\n",
       "      <td>0.0</td>\n",
       "      <td>0.0</td>\n",
       "      <td>0.0</td>\n",
       "      <td>1.0</td>\n",
       "      <td>1.0</td>\n",
       "      <td>1.0</td>\n",
       "      <td>0.0</td>\n",
       "      <td>0.5</td>\n",
       "      <td>0</td>\n",
       "    </tr>\n",
       "    <tr>\n",
       "      <th>2</th>\n",
       "      <td>0.5</td>\n",
       "      <td>1.0</td>\n",
       "      <td>1.0</td>\n",
       "      <td>0.5</td>\n",
       "      <td>1.0</td>\n",
       "      <td>1.0</td>\n",
       "      <td>0.0</td>\n",
       "      <td>0.0</td>\n",
       "      <td>0.0</td>\n",
       "      <td>0.0</td>\n",
       "      <td>1.0</td>\n",
       "      <td>0.0</td>\n",
       "      <td>1.0</td>\n",
       "      <td>1.0</td>\n",
       "      <td>0.0</td>\n",
       "      <td>0.0</td>\n",
       "      <td>1</td>\n",
       "    </tr>\n",
       "    <tr>\n",
       "      <th>3</th>\n",
       "      <td>0.0</td>\n",
       "      <td>1.0</td>\n",
       "      <td>1.0</td>\n",
       "      <td>0.0</td>\n",
       "      <td>0.5</td>\n",
       "      <td>1.0</td>\n",
       "      <td>0.0</td>\n",
       "      <td>0.0</td>\n",
       "      <td>0.0</td>\n",
       "      <td>0.0</td>\n",
       "      <td>1.0</td>\n",
       "      <td>0.0</td>\n",
       "      <td>1.0</td>\n",
       "      <td>0.0</td>\n",
       "      <td>0.0</td>\n",
       "      <td>1.0</td>\n",
       "      <td>1</td>\n",
       "    </tr>\n",
       "    <tr>\n",
       "      <th>4</th>\n",
       "      <td>1.0</td>\n",
       "      <td>1.0</td>\n",
       "      <td>1.0</td>\n",
       "      <td>0.0</td>\n",
       "      <td>1.0</td>\n",
       "      <td>1.0</td>\n",
       "      <td>0.0</td>\n",
       "      <td>0.0</td>\n",
       "      <td>0.0</td>\n",
       "      <td>0.0</td>\n",
       "      <td>1.0</td>\n",
       "      <td>0.5</td>\n",
       "      <td>1.0</td>\n",
       "      <td>1.0</td>\n",
       "      <td>1.0</td>\n",
       "      <td>1.0</td>\n",
       "      <td>1</td>\n",
       "    </tr>\n",
       "  </tbody>\n",
       "</table>\n",
       "</div>\n",
       "    <div class=\"colab-df-buttons\">\n",
       "\n",
       "  <div class=\"colab-df-container\">\n",
       "    <button class=\"colab-df-convert\" onclick=\"convertToInteractive('df-ac71bc42-8d3c-4538-9e59-09e94e8635fe')\"\n",
       "            title=\"Convert this dataframe to an interactive table.\"\n",
       "            style=\"display:none;\">\n",
       "\n",
       "  <svg xmlns=\"http://www.w3.org/2000/svg\" height=\"24px\" viewBox=\"0 -960 960 960\">\n",
       "    <path d=\"M120-120v-720h720v720H120Zm60-500h600v-160H180v160Zm220 220h160v-160H400v160Zm0 220h160v-160H400v160ZM180-400h160v-160H180v160Zm440 0h160v-160H620v160ZM180-180h160v-160H180v160Zm440 0h160v-160H620v160Z\"/>\n",
       "  </svg>\n",
       "    </button>\n",
       "\n",
       "  <style>\n",
       "    .colab-df-container {\n",
       "      display:flex;\n",
       "      gap: 12px;\n",
       "    }\n",
       "\n",
       "    .colab-df-convert {\n",
       "      background-color: #E8F0FE;\n",
       "      border: none;\n",
       "      border-radius: 50%;\n",
       "      cursor: pointer;\n",
       "      display: none;\n",
       "      fill: #1967D2;\n",
       "      height: 32px;\n",
       "      padding: 0 0 0 0;\n",
       "      width: 32px;\n",
       "    }\n",
       "\n",
       "    .colab-df-convert:hover {\n",
       "      background-color: #E2EBFA;\n",
       "      box-shadow: 0px 1px 2px rgba(60, 64, 67, 0.3), 0px 1px 3px 1px rgba(60, 64, 67, 0.15);\n",
       "      fill: #174EA6;\n",
       "    }\n",
       "\n",
       "    .colab-df-buttons div {\n",
       "      margin-bottom: 4px;\n",
       "    }\n",
       "\n",
       "    [theme=dark] .colab-df-convert {\n",
       "      background-color: #3B4455;\n",
       "      fill: #D2E3FC;\n",
       "    }\n",
       "\n",
       "    [theme=dark] .colab-df-convert:hover {\n",
       "      background-color: #434B5C;\n",
       "      box-shadow: 0px 1px 3px 1px rgba(0, 0, 0, 0.15);\n",
       "      filter: drop-shadow(0px 1px 2px rgba(0, 0, 0, 0.3));\n",
       "      fill: #FFFFFF;\n",
       "    }\n",
       "  </style>\n",
       "\n",
       "    <script>\n",
       "      const buttonEl =\n",
       "        document.querySelector('#df-ac71bc42-8d3c-4538-9e59-09e94e8635fe button.colab-df-convert');\n",
       "      buttonEl.style.display =\n",
       "        google.colab.kernel.accessAllowed ? 'block' : 'none';\n",
       "\n",
       "      async function convertToInteractive(key) {\n",
       "        const element = document.querySelector('#df-ac71bc42-8d3c-4538-9e59-09e94e8635fe');\n",
       "        const dataTable =\n",
       "          await google.colab.kernel.invokeFunction('convertToInteractive',\n",
       "                                                    [key], {});\n",
       "        if (!dataTable) return;\n",
       "\n",
       "        const docLinkHtml = 'Like what you see? Visit the ' +\n",
       "          '<a target=\"_blank\" href=https://colab.research.google.com/notebooks/data_table.ipynb>data table notebook</a>'\n",
       "          + ' to learn more about interactive tables.';\n",
       "        element.innerHTML = '';\n",
       "        dataTable['output_type'] = 'display_data';\n",
       "        await google.colab.output.renderOutput(dataTable, element);\n",
       "        const docLink = document.createElement('div');\n",
       "        docLink.innerHTML = docLinkHtml;\n",
       "        element.appendChild(docLink);\n",
       "      }\n",
       "    </script>\n",
       "  </div>\n",
       "\n",
       "\n",
       "<div id=\"df-29f49c32-b732-46b6-9360-9c8577057269\">\n",
       "  <button class=\"colab-df-quickchart\" onclick=\"quickchart('df-29f49c32-b732-46b6-9360-9c8577057269')\"\n",
       "            title=\"Suggest charts.\"\n",
       "            style=\"display:none;\">\n",
       "\n",
       "<svg xmlns=\"http://www.w3.org/2000/svg\" height=\"24px\"viewBox=\"0 0 24 24\"\n",
       "     width=\"24px\">\n",
       "    <g>\n",
       "        <path d=\"M19 3H5c-1.1 0-2 .9-2 2v14c0 1.1.9 2 2 2h14c1.1 0 2-.9 2-2V5c0-1.1-.9-2-2-2zM9 17H7v-7h2v7zm4 0h-2V7h2v10zm4 0h-2v-4h2v4z\"/>\n",
       "    </g>\n",
       "</svg>\n",
       "  </button>\n",
       "\n",
       "<style>\n",
       "  .colab-df-quickchart {\n",
       "      --bg-color: #E8F0FE;\n",
       "      --fill-color: #1967D2;\n",
       "      --hover-bg-color: #E2EBFA;\n",
       "      --hover-fill-color: #174EA6;\n",
       "      --disabled-fill-color: #AAA;\n",
       "      --disabled-bg-color: #DDD;\n",
       "  }\n",
       "\n",
       "  [theme=dark] .colab-df-quickchart {\n",
       "      --bg-color: #3B4455;\n",
       "      --fill-color: #D2E3FC;\n",
       "      --hover-bg-color: #434B5C;\n",
       "      --hover-fill-color: #FFFFFF;\n",
       "      --disabled-bg-color: #3B4455;\n",
       "      --disabled-fill-color: #666;\n",
       "  }\n",
       "\n",
       "  .colab-df-quickchart {\n",
       "    background-color: var(--bg-color);\n",
       "    border: none;\n",
       "    border-radius: 50%;\n",
       "    cursor: pointer;\n",
       "    display: none;\n",
       "    fill: var(--fill-color);\n",
       "    height: 32px;\n",
       "    padding: 0;\n",
       "    width: 32px;\n",
       "  }\n",
       "\n",
       "  .colab-df-quickchart:hover {\n",
       "    background-color: var(--hover-bg-color);\n",
       "    box-shadow: 0 1px 2px rgba(60, 64, 67, 0.3), 0 1px 3px 1px rgba(60, 64, 67, 0.15);\n",
       "    fill: var(--button-hover-fill-color);\n",
       "  }\n",
       "\n",
       "  .colab-df-quickchart-complete:disabled,\n",
       "  .colab-df-quickchart-complete:disabled:hover {\n",
       "    background-color: var(--disabled-bg-color);\n",
       "    fill: var(--disabled-fill-color);\n",
       "    box-shadow: none;\n",
       "  }\n",
       "\n",
       "  .colab-df-spinner {\n",
       "    border: 2px solid var(--fill-color);\n",
       "    border-color: transparent;\n",
       "    border-bottom-color: var(--fill-color);\n",
       "    animation:\n",
       "      spin 1s steps(1) infinite;\n",
       "  }\n",
       "\n",
       "  @keyframes spin {\n",
       "    0% {\n",
       "      border-color: transparent;\n",
       "      border-bottom-color: var(--fill-color);\n",
       "      border-left-color: var(--fill-color);\n",
       "    }\n",
       "    20% {\n",
       "      border-color: transparent;\n",
       "      border-left-color: var(--fill-color);\n",
       "      border-top-color: var(--fill-color);\n",
       "    }\n",
       "    30% {\n",
       "      border-color: transparent;\n",
       "      border-left-color: var(--fill-color);\n",
       "      border-top-color: var(--fill-color);\n",
       "      border-right-color: var(--fill-color);\n",
       "    }\n",
       "    40% {\n",
       "      border-color: transparent;\n",
       "      border-right-color: var(--fill-color);\n",
       "      border-top-color: var(--fill-color);\n",
       "    }\n",
       "    60% {\n",
       "      border-color: transparent;\n",
       "      border-right-color: var(--fill-color);\n",
       "    }\n",
       "    80% {\n",
       "      border-color: transparent;\n",
       "      border-right-color: var(--fill-color);\n",
       "      border-bottom-color: var(--fill-color);\n",
       "    }\n",
       "    90% {\n",
       "      border-color: transparent;\n",
       "      border-bottom-color: var(--fill-color);\n",
       "    }\n",
       "  }\n",
       "</style>\n",
       "\n",
       "  <script>\n",
       "    async function quickchart(key) {\n",
       "      const quickchartButtonEl =\n",
       "        document.querySelector('#' + key + ' button');\n",
       "      quickchartButtonEl.disabled = true;  // To prevent multiple clicks.\n",
       "      quickchartButtonEl.classList.add('colab-df-spinner');\n",
       "      try {\n",
       "        const charts = await google.colab.kernel.invokeFunction(\n",
       "            'suggestCharts', [key], {});\n",
       "      } catch (error) {\n",
       "        console.error('Error during call to suggestCharts:', error);\n",
       "      }\n",
       "      quickchartButtonEl.classList.remove('colab-df-spinner');\n",
       "      quickchartButtonEl.classList.add('colab-df-quickchart-complete');\n",
       "    }\n",
       "    (() => {\n",
       "      let quickchartButtonEl =\n",
       "        document.querySelector('#df-29f49c32-b732-46b6-9360-9c8577057269 button');\n",
       "      quickchartButtonEl.style.display =\n",
       "        google.colab.kernel.accessAllowed ? 'block' : 'none';\n",
       "    })();\n",
       "  </script>\n",
       "</div>\n",
       "    </div>\n",
       "  </div>\n"
      ],
      "text/plain": [
       "    0    1    2    3    4    5    6    7    8    9    10   11   12   13   14  \\\n",
       "0  0.0  1.0  0.0  1.0  1.0  1.0  0.0  0.0  0.0  1.0  0.5  1.0  1.0  1.0  0.0   \n",
       "1  0.0  1.0  0.0  1.0  1.0  1.0  0.0  0.0  0.0  0.0  0.0  1.0  1.0  1.0  0.0   \n",
       "2  0.5  1.0  1.0  0.5  1.0  1.0  0.0  0.0  0.0  0.0  1.0  0.0  1.0  1.0  0.0   \n",
       "3  0.0  1.0  1.0  0.0  0.5  1.0  0.0  0.0  0.0  0.0  1.0  0.0  1.0  0.0  0.0   \n",
       "4  1.0  1.0  1.0  0.0  1.0  1.0  0.0  0.0  0.0  0.0  1.0  0.5  1.0  1.0  1.0   \n",
       "\n",
       "    15  16  \n",
       "0  1.0   0  \n",
       "1  0.5   0  \n",
       "2  0.0   1  \n",
       "3  1.0   1  \n",
       "4  1.0   1  "
      ]
     },
     "execution_count": 5,
     "metadata": {},
     "output_type": "execute_result"
    }
   ],
   "source": [
    "df = pd.read_csv('Vote.csv', header=None)\n",
    "df.head()"
   ]
  },
  {
   "cell_type": "code",
   "execution_count": null,
   "id": "Xf14lipT9gEk",
   "metadata": {
    "colab": {
     "base_uri": "https://localhost:8080/"
    },
    "executionInfo": {
     "elapsed": 566,
     "status": "ok",
     "timestamp": 1694078821610,
     "user": {
      "displayName": "",
      "userId": ""
     },
     "user_tz": -600
    },
    "id": "Xf14lipT9gEk",
    "outputId": "0f860024-dfd3-464b-8e9f-0d7c51082566"
   },
   "outputs": [
    {
     "data": {
      "text/plain": [
       "0     0\n",
       "1     0\n",
       "2     0\n",
       "3     0\n",
       "4     0\n",
       "5     0\n",
       "6     0\n",
       "7     0\n",
       "8     0\n",
       "9     0\n",
       "10    0\n",
       "11    0\n",
       "12    0\n",
       "13    0\n",
       "14    0\n",
       "15    0\n",
       "16    0\n",
       "dtype: int64"
      ]
     },
     "execution_count": 6,
     "metadata": {},
     "output_type": "execute_result"
    }
   ],
   "source": [
    "df.isna().sum()"
   ]
  },
  {
   "cell_type": "code",
   "execution_count": null,
   "id": "gJO6D3GP94Mk",
   "metadata": {
    "colab": {
     "base_uri": "https://localhost:8080/"
    },
    "executionInfo": {
     "elapsed": 14,
     "status": "ok",
     "timestamp": 1694078889685,
     "user": {
      "displayName": "",
      "userId": ""
     },
     "user_tz": -600
    },
    "id": "gJO6D3GP94Mk",
    "outputId": "4a3e3847-737b-439a-d9b8-e73f6ad616dc"
   },
   "outputs": [
    {
     "data": {
      "text/plain": [
       "(435, 17)"
      ]
     },
     "execution_count": 7,
     "metadata": {},
     "output_type": "execute_result"
    }
   ],
   "source": [
    "df.shape"
   ]
  },
  {
   "cell_type": "code",
   "execution_count": null,
   "id": "PlAzTe_2-JRM",
   "metadata": {
    "id": "PlAzTe_2-JRM"
   },
   "outputs": [],
   "source": [
    "X = df[range(16)].values\n",
    "y = df[16].values"
   ]
  },
  {
   "cell_type": "code",
   "execution_count": null,
   "id": "kqrkDJfg-oLg",
   "metadata": {
    "id": "kqrkDJfg-oLg"
   },
   "outputs": [],
   "source": []
  },
  {
   "cell_type": "code",
   "execution_count": null,
   "id": "BeXrgTVh9qAW",
   "metadata": {
    "id": "BeXrgTVh9qAW"
   },
   "outputs": [],
   "source": [
    "X_train, X_temp, y_train, y_temp = train_test_split(X, y, test_size=0.33, random_state=42)\n",
    "X_val, X_test, y_val, y_test = train_test_split(X_temp, y_temp, test_size=0.5, random_state=42)"
   ]
  },
  {
   "cell_type": "code",
   "execution_count": null,
   "id": "N3z0ATlx_CdZ",
   "metadata": {
    "id": "N3z0ATlx_CdZ"
   },
   "outputs": [],
   "source": [
    "model = keras.Sequential([\n",
    "    keras.layers.Dense(64, activation='relu', input_shape=(X_train.shape[1],)),\n",
    "    keras.layers.Dense(32, activation='relu'),\n",
    "    keras.layers.Dense(1, activation='sigmoid')\n",
    "])\n",
    "model.compile(optimizer='adam', loss='binary_crossentropy', metrics=['accuracy'])"
   ]
  },
  {
   "cell_type": "code",
   "execution_count": null,
   "id": "34MBCwLa_WXq",
   "metadata": {
    "colab": {
     "base_uri": "https://localhost:8080/"
    },
    "executionInfo": {
     "elapsed": 4724,
     "status": "ok",
     "timestamp": 1694079251953,
     "user": {
      "displayName": "",
      "userId": ""
     },
     "user_tz": -600
    },
    "id": "34MBCwLa_WXq",
    "outputId": "9557d7e4-eef2-4678-add6-ba6dfca1814f"
   },
   "outputs": [
    {
     "name": "stdout",
     "output_type": "stream",
     "text": [
      "Epoch 1/50\n",
      "10/10 - 1s - loss: 0.6618 - accuracy: 0.6598 - val_loss: 0.5815 - val_accuracy: 0.8611 - 1s/epoch - 147ms/step\n",
      "Epoch 2/50\n",
      "10/10 - 0s - loss: 0.5326 - accuracy: 0.8660 - val_loss: 0.4769 - val_accuracy: 0.8750 - 67ms/epoch - 7ms/step\n",
      "Epoch 3/50\n",
      "10/10 - 0s - loss: 0.4287 - accuracy: 0.8866 - val_loss: 0.3800 - val_accuracy: 0.9167 - 64ms/epoch - 6ms/step\n",
      "Epoch 4/50\n",
      "10/10 - 0s - loss: 0.3403 - accuracy: 0.9003 - val_loss: 0.2981 - val_accuracy: 0.9167 - 49ms/epoch - 5ms/step\n",
      "Epoch 5/50\n",
      "10/10 - 0s - loss: 0.2674 - accuracy: 0.9072 - val_loss: 0.2417 - val_accuracy: 0.9167 - 50ms/epoch - 5ms/step\n",
      "Epoch 6/50\n",
      "10/10 - 0s - loss: 0.2200 - accuracy: 0.9141 - val_loss: 0.2057 - val_accuracy: 0.9306 - 56ms/epoch - 6ms/step\n",
      "Epoch 7/50\n",
      "10/10 - 0s - loss: 0.1880 - accuracy: 0.9347 - val_loss: 0.1848 - val_accuracy: 0.9306 - 64ms/epoch - 6ms/step\n",
      "Epoch 8/50\n",
      "10/10 - 0s - loss: 0.1659 - accuracy: 0.9381 - val_loss: 0.1689 - val_accuracy: 0.9306 - 48ms/epoch - 5ms/step\n",
      "Epoch 9/50\n",
      "10/10 - 0s - loss: 0.1501 - accuracy: 0.9416 - val_loss: 0.1521 - val_accuracy: 0.9444 - 50ms/epoch - 5ms/step\n",
      "Epoch 10/50\n",
      "10/10 - 0s - loss: 0.1345 - accuracy: 0.9553 - val_loss: 0.1427 - val_accuracy: 0.9583 - 52ms/epoch - 5ms/step\n",
      "Epoch 11/50\n",
      "10/10 - 0s - loss: 0.1259 - accuracy: 0.9588 - val_loss: 0.1408 - val_accuracy: 0.9583 - 66ms/epoch - 7ms/step\n",
      "Epoch 12/50\n",
      "10/10 - 0s - loss: 0.1131 - accuracy: 0.9622 - val_loss: 0.1234 - val_accuracy: 0.9583 - 49ms/epoch - 5ms/step\n",
      "Epoch 13/50\n",
      "10/10 - 0s - loss: 0.1105 - accuracy: 0.9553 - val_loss: 0.1157 - val_accuracy: 0.9722 - 66ms/epoch - 7ms/step\n",
      "Epoch 14/50\n",
      "10/10 - 0s - loss: 0.0993 - accuracy: 0.9622 - val_loss: 0.1128 - val_accuracy: 0.9583 - 54ms/epoch - 5ms/step\n",
      "Epoch 15/50\n",
      "10/10 - 0s - loss: 0.0933 - accuracy: 0.9656 - val_loss: 0.1092 - val_accuracy: 0.9722 - 77ms/epoch - 8ms/step\n",
      "Epoch 16/50\n",
      "10/10 - 0s - loss: 0.0890 - accuracy: 0.9656 - val_loss: 0.1049 - val_accuracy: 0.9722 - 53ms/epoch - 5ms/step\n",
      "Epoch 17/50\n",
      "10/10 - 0s - loss: 0.0846 - accuracy: 0.9656 - val_loss: 0.1025 - val_accuracy: 0.9722 - 72ms/epoch - 7ms/step\n",
      "Epoch 18/50\n",
      "10/10 - 0s - loss: 0.0810 - accuracy: 0.9656 - val_loss: 0.0987 - val_accuracy: 0.9722 - 72ms/epoch - 7ms/step\n",
      "Epoch 19/50\n",
      "10/10 - 0s - loss: 0.0795 - accuracy: 0.9656 - val_loss: 0.0967 - val_accuracy: 0.9722 - 59ms/epoch - 6ms/step\n",
      "Epoch 20/50\n",
      "10/10 - 0s - loss: 0.0766 - accuracy: 0.9656 - val_loss: 0.0964 - val_accuracy: 0.9583 - 49ms/epoch - 5ms/step\n",
      "Epoch 21/50\n",
      "10/10 - 0s - loss: 0.0745 - accuracy: 0.9656 - val_loss: 0.0975 - val_accuracy: 0.9722 - 48ms/epoch - 5ms/step\n",
      "Epoch 22/50\n",
      "10/10 - 0s - loss: 0.0771 - accuracy: 0.9656 - val_loss: 0.0913 - val_accuracy: 0.9722 - 53ms/epoch - 5ms/step\n",
      "Epoch 23/50\n",
      "10/10 - 0s - loss: 0.0695 - accuracy: 0.9622 - val_loss: 0.0920 - val_accuracy: 0.9722 - 66ms/epoch - 7ms/step\n",
      "Epoch 24/50\n",
      "10/10 - 0s - loss: 0.0691 - accuracy: 0.9759 - val_loss: 0.0954 - val_accuracy: 0.9583 - 66ms/epoch - 7ms/step\n",
      "Epoch 25/50\n",
      "10/10 - 0s - loss: 0.0665 - accuracy: 0.9725 - val_loss: 0.0948 - val_accuracy: 0.9722 - 52ms/epoch - 5ms/step\n",
      "Epoch 26/50\n",
      "10/10 - 0s - loss: 0.0640 - accuracy: 0.9656 - val_loss: 0.0956 - val_accuracy: 0.9722 - 54ms/epoch - 5ms/step\n",
      "Epoch 27/50\n",
      "10/10 - 0s - loss: 0.0610 - accuracy: 0.9759 - val_loss: 0.0980 - val_accuracy: 0.9583 - 61ms/epoch - 6ms/step\n",
      "Epoch 28/50\n",
      "10/10 - 0s - loss: 0.0648 - accuracy: 0.9691 - val_loss: 0.1047 - val_accuracy: 0.9583 - 66ms/epoch - 7ms/step\n",
      "Epoch 29/50\n",
      "10/10 - 0s - loss: 0.0604 - accuracy: 0.9725 - val_loss: 0.0992 - val_accuracy: 0.9722 - 51ms/epoch - 5ms/step\n",
      "Epoch 30/50\n",
      "10/10 - 0s - loss: 0.0583 - accuracy: 0.9725 - val_loss: 0.1015 - val_accuracy: 0.9722 - 64ms/epoch - 6ms/step\n",
      "Epoch 31/50\n",
      "10/10 - 0s - loss: 0.0570 - accuracy: 0.9691 - val_loss: 0.1005 - val_accuracy: 0.9722 - 65ms/epoch - 7ms/step\n",
      "Epoch 32/50\n",
      "10/10 - 0s - loss: 0.0556 - accuracy: 0.9759 - val_loss: 0.1003 - val_accuracy: 0.9722 - 52ms/epoch - 5ms/step\n",
      "Epoch 33/50\n",
      "10/10 - 0s - loss: 0.0548 - accuracy: 0.9759 - val_loss: 0.0999 - val_accuracy: 0.9722 - 52ms/epoch - 5ms/step\n",
      "Epoch 34/50\n",
      "10/10 - 0s - loss: 0.0529 - accuracy: 0.9828 - val_loss: 0.1002 - val_accuracy: 0.9722 - 51ms/epoch - 5ms/step\n",
      "Epoch 35/50\n",
      "10/10 - 0s - loss: 0.0522 - accuracy: 0.9828 - val_loss: 0.1016 - val_accuracy: 0.9722 - 56ms/epoch - 6ms/step\n",
      "Epoch 36/50\n",
      "10/10 - 0s - loss: 0.0516 - accuracy: 0.9828 - val_loss: 0.1019 - val_accuracy: 0.9722 - 57ms/epoch - 6ms/step\n",
      "Epoch 37/50\n",
      "10/10 - 0s - loss: 0.0507 - accuracy: 0.9828 - val_loss: 0.1024 - val_accuracy: 0.9722 - 69ms/epoch - 7ms/step\n",
      "Epoch 38/50\n",
      "10/10 - 0s - loss: 0.0577 - accuracy: 0.9759 - val_loss: 0.1037 - val_accuracy: 0.9861 - 70ms/epoch - 7ms/step\n",
      "Epoch 39/50\n",
      "10/10 - 0s - loss: 0.0537 - accuracy: 0.9759 - val_loss: 0.1020 - val_accuracy: 0.9583 - 71ms/epoch - 7ms/step\n",
      "Epoch 40/50\n",
      "10/10 - 0s - loss: 0.0506 - accuracy: 0.9794 - val_loss: 0.1028 - val_accuracy: 0.9722 - 54ms/epoch - 5ms/step\n",
      "Epoch 41/50\n",
      "10/10 - 0s - loss: 0.0474 - accuracy: 0.9759 - val_loss: 0.1044 - val_accuracy: 0.9722 - 58ms/epoch - 6ms/step\n",
      "Epoch 42/50\n",
      "10/10 - 0s - loss: 0.0463 - accuracy: 0.9828 - val_loss: 0.1052 - val_accuracy: 0.9722 - 51ms/epoch - 5ms/step\n",
      "Epoch 43/50\n",
      "10/10 - 0s - loss: 0.0467 - accuracy: 0.9828 - val_loss: 0.1042 - val_accuracy: 0.9722 - 53ms/epoch - 5ms/step\n",
      "Epoch 44/50\n",
      "10/10 - 0s - loss: 0.0456 - accuracy: 0.9759 - val_loss: 0.1062 - val_accuracy: 0.9722 - 57ms/epoch - 6ms/step\n",
      "Epoch 45/50\n",
      "10/10 - 0s - loss: 0.0453 - accuracy: 0.9794 - val_loss: 0.1068 - val_accuracy: 0.9722 - 50ms/epoch - 5ms/step\n",
      "Epoch 46/50\n",
      "10/10 - 0s - loss: 0.0439 - accuracy: 0.9897 - val_loss: 0.1057 - val_accuracy: 0.9722 - 52ms/epoch - 5ms/step\n",
      "Epoch 47/50\n",
      "10/10 - 0s - loss: 0.0425 - accuracy: 0.9863 - val_loss: 0.1069 - val_accuracy: 0.9722 - 49ms/epoch - 5ms/step\n",
      "Epoch 48/50\n",
      "10/10 - 0s - loss: 0.0416 - accuracy: 0.9794 - val_loss: 0.1077 - val_accuracy: 0.9722 - 51ms/epoch - 5ms/step\n",
      "Epoch 49/50\n",
      "10/10 - 0s - loss: 0.0406 - accuracy: 0.9863 - val_loss: 0.1067 - val_accuracy: 0.9722 - 68ms/epoch - 7ms/step\n",
      "Epoch 50/50\n",
      "10/10 - 0s - loss: 0.0405 - accuracy: 0.9828 - val_loss: 0.1078 - val_accuracy: 0.9722 - 60ms/epoch - 6ms/step\n"
     ]
    },
    {
     "data": {
      "text/plain": [
       "<keras.callbacks.History at 0x7f2f8419ecb0>"
      ]
     },
     "execution_count": 13,
     "metadata": {},
     "output_type": "execute_result"
    }
   ],
   "source": [
    "model.fit(X_train, y_train, epochs=50, batch_size=32, validation_data=(X_val, y_val), verbose=2)"
   ]
  },
  {
   "cell_type": "code",
   "execution_count": null,
   "id": "Z2iAtcW0Aypx",
   "metadata": {
    "colab": {
     "base_uri": "https://localhost:8080/"
    },
    "executionInfo": {
     "elapsed": 7,
     "status": "ok",
     "timestamp": 1694079598504,
     "user": {
      "displayName": "",
      "userId": ""
     },
     "user_tz": -600
    },
    "id": "Z2iAtcW0Aypx",
    "outputId": "966e5ff3-f12f-4b1d-a974-55b2b9955a02"
   },
   "outputs": [
    {
     "name": "stdout",
     "output_type": "stream",
     "text": [
      "3/3 [==============================] - 0s 4ms/step\n"
     ]
    }
   ],
   "source": [
    "y_pred = (model.predict(X_test) > 0.5).astype(int)"
   ]
  },
  {
   "cell_type": "code",
   "execution_count": null,
   "id": "676BecPgA-Il",
   "metadata": {
    "colab": {
     "base_uri": "https://localhost:8080/"
    },
    "executionInfo": {
     "elapsed": 527,
     "status": "ok",
     "timestamp": 1694079646021,
     "user": {
      "displayName": "",
      "userId": ""
     },
     "user_tz": -600
    },
    "id": "676BecPgA-Il",
    "outputId": "8eb4da10-b508-4a42-ca8a-2c086eadb3a1"
   },
   "outputs": [
    {
     "data": {
      "text/plain": [
       "1.0"
      ]
     },
     "execution_count": 15,
     "metadata": {},
     "output_type": "execute_result"
    }
   ],
   "source": [
    "accuracy_score(y_test, y_pred)"
   ]
  },
  {
   "cell_type": "code",
   "execution_count": null,
   "id": "apkH0xttBoIC",
   "metadata": {
    "colab": {
     "base_uri": "https://localhost:8080/"
    },
    "executionInfo": {
     "elapsed": 643,
     "status": "ok",
     "timestamp": 1694079874770,
     "user": {
      "displayName": "",
      "userId": ""
     },
     "user_tz": -600
    },
    "id": "apkH0xttBoIC",
    "outputId": "ff793bc1-31e5-4882-85e4-9e6dc0b543d8"
   },
   "outputs": [
    {
     "data": {
      "text/plain": [
       "array([[24,  0],\n",
       "       [ 0, 48]])"
      ]
     },
     "execution_count": 17,
     "metadata": {},
     "output_type": "execute_result"
    }
   ],
   "source": [
    "from sklearn.metrics import confusion_matrix\n",
    "conf = confusion_matrix(y_pred, y_test)\n",
    "conf"
   ]
  },
  {
   "cell_type": "code",
   "execution_count": null,
   "id": "k82KrQ82DaAy",
   "metadata": {
    "colab": {
     "base_uri": "https://localhost:8080/",
     "height": 447
    },
    "executionInfo": {
     "elapsed": 1595,
     "status": "ok",
     "timestamp": 1694080294401,
     "user": {
      "displayName": "",
      "userId": ""
     },
     "user_tz": -600
    },
    "id": "k82KrQ82DaAy",
    "outputId": "311585d7-f15b-449b-8aba-c184fcc013eb"
   },
   "outputs": [
    {
     "data": {
      "text/plain": [
       "<Axes: >"
      ]
     },
     "execution_count": 19,
     "metadata": {},
     "output_type": "execute_result"
    },
    {
     "data": {
      "image/png": "[encoded data removed]",
      "text/plain": [
       "<Figure size 640x480 with 2 Axes>"
      ]
     },
     "metadata": {},
     "output_type": "display_data"
    }
   ],
   "source": [
    "import seaborn as sns\n",
    "sns.heatmap(conf, annot=True, fmt='d', cmap='Blues')"
   ]
  },
  {
   "cell_type": "code",
   "execution_count": null,
   "id": "ZDi6s9SsDuYw",
   "metadata": {
    "colab": {
     "base_uri": "https://localhost:8080/"
    },
    "executionInfo": {
     "elapsed": 652,
     "status": "ok",
     "timestamp": 1694080548315,
     "user": {
      "displayName": "",
      "userId": ""
     },
     "user_tz": -600
    },
    "id": "ZDi6s9SsDuYw",
    "outputId": "82016f45-1a62-482a-d907-4af34037f5c1"
   },
   "outputs": [
    {
     "name": "stdout",
     "output_type": "stream",
     "text": [
      "14/14 [==============================] - 0s 3ms/step\n"
     ]
    },
    {
     "data": {
      "text/plain": [
       "0.9862068965517241"
      ]
     },
     "execution_count": 21,
     "metadata": {},
     "output_type": "execute_result"
    }
   ],
   "source": [
    "# entire dataset\n",
    "pred_fullDS = (model.predict(X) > 0.5).astype(int)\n",
    "accuracy_score(y, pred_fullDS)"
   ]
  },
  {
   "cell_type": "code",
   "execution_count": null,
   "id": "sWpnBDX-Ehob",
   "metadata": {
    "colab": {
     "base_uri": "https://localhost:8080/",
     "height": 447
    },
    "executionInfo": {
     "elapsed": 19,
     "status": "ok",
     "timestamp": 1694080636298,
     "user": {
      "displayName": "",
      "userId": ""
     },
     "user_tz": -600
    },
    "id": "sWpnBDX-Ehob",
    "outputId": "25cabbfa-fa97-4644-b04a-67c0d142c027"
   },
   "outputs": [
    {
     "data": {
      "text/plain": [
       "<Axes: >"
      ]
     },
     "execution_count": 22,
     "metadata": {},
     "output_type": "execute_result"
    },
    {
     "data": {
      "image/png": "[encoded data removed]",
      "text/plain": [
       "<Figure size 640x480 with 2 Axes>"
      ]
     },
     "metadata": {},
     "output_type": "display_data"
    }
   ],
   "source": [
    "conf = confusion_matrix(y, pred_fullDS)\n",
    "sns.heatmap(conf, annot=True, fmt='d', cmap='Blues')"
   ]
  }
 ],
 "metadata": {
  "colab": {
   "provenance": [
    {
     "file_id": "https://github.com/Adnan525/sc_mt1/blob/master/vote.ipynb",
     "timestamp": 1694080678783
    }
   ]
  },
  "kernelspec": {
   "display_name": "Python 3 (ipykernel)",
   "language": "python",
   "name": "python3"
  },
  "language_info": {
   "codemirror_mode": {
    "name": "ipython",
    "version": 3
   },
   "file_extension": ".py",
   "mimetype": "text/x-python",
   "name": "python",
   "nbconvert_exporter": "python",
   "pygments_lexer": "ipython3",
   "version": "3.8.17"
  }
 },
 "nbformat": 4,
 "nbformat_minor": 5
}
