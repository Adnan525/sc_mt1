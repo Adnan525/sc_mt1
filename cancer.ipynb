{
 "cells": [
  {
   "cell_type": "code",
   "execution_count": null,
   "id": "9135f2be",
   "metadata": {},
   "outputs": [],
   "source": [
    "import warnings\n",
    "warnings.filterwarnings(\"ignore\")"
   ]
  },
  {
   "cell_type": "code",
   "execution_count": 7,
   "id": "b7d2a768",
   "metadata": {},
   "outputs": [],
   "source": [
    "import numpy as np\n",
    "import pandas as pd\n",
    "import tensorflow as tf\n",
    "from tensorflow import keras\n",
    "from sklearn.model_selection import train_test_split\n",
    "from sklearn.metrics import accuracy_score"
   ]
  },
  {
   "cell_type": "code",
   "execution_count": 15,
   "id": "995d305d",
   "metadata": {},
   "outputs": [
    {
     "data": {
      "text/plain": [
       "Int64Index([0, 1, 2, 3, 4, 5], dtype='int64')"
      ]
     },
     "execution_count": 15,
     "metadata": {},
     "output_type": "execute_result"
    }
   ],
   "source": [
    "df = pd.read_csv('cancer.csv', header=None)\n",
    "df.head()\n",
    "# 1. Mean_radius 2. Mean_texture 3. Mean_perimeter 4. Mean_area 5.Mean_smoothness 6. diagnosis\n",
    "# so 0-4 input, 5 output\n",
    "df.columns"
   ]
  },
  {
   "cell_type": "code",
   "execution_count": 17,
   "id": "cfd2f75b",
   "metadata": {},
   "outputs": [
    {
     "data": {
      "text/html": [
       "<div>\n",
       "<style scoped>\n",
       "    .dataframe tbody tr th:only-of-type {\n",
       "        vertical-align: middle;\n",
       "    }\n",
       "\n",
       "    .dataframe tbody tr th {\n",
       "        vertical-align: top;\n",
       "    }\n",
       "\n",
       "    .dataframe thead th {\n",
       "        text-align: right;\n",
       "    }\n",
       "</style>\n",
       "<table border=\"1\" class=\"dataframe\">\n",
       "  <thead>\n",
       "    <tr style=\"text-align: right;\">\n",
       "      <th></th>\n",
       "      <th>0</th>\n",
       "      <th>1</th>\n",
       "      <th>2</th>\n",
       "      <th>3</th>\n",
       "      <th>4</th>\n",
       "    </tr>\n",
       "  </thead>\n",
       "  <tbody>\n",
       "    <tr>\n",
       "      <th>0</th>\n",
       "      <td>17.99</td>\n",
       "      <td>10.38</td>\n",
       "      <td>122.80</td>\n",
       "      <td>1001.0</td>\n",
       "      <td>0.11840</td>\n",
       "    </tr>\n",
       "    <tr>\n",
       "      <th>1</th>\n",
       "      <td>20.57</td>\n",
       "      <td>17.77</td>\n",
       "      <td>132.90</td>\n",
       "      <td>1326.0</td>\n",
       "      <td>0.08474</td>\n",
       "    </tr>\n",
       "    <tr>\n",
       "      <th>2</th>\n",
       "      <td>19.69</td>\n",
       "      <td>21.25</td>\n",
       "      <td>130.00</td>\n",
       "      <td>1203.0</td>\n",
       "      <td>0.10960</td>\n",
       "    </tr>\n",
       "    <tr>\n",
       "      <th>3</th>\n",
       "      <td>11.42</td>\n",
       "      <td>20.38</td>\n",
       "      <td>77.58</td>\n",
       "      <td>386.1</td>\n",
       "      <td>0.14250</td>\n",
       "    </tr>\n",
       "    <tr>\n",
       "      <th>4</th>\n",
       "      <td>20.29</td>\n",
       "      <td>14.34</td>\n",
       "      <td>135.10</td>\n",
       "      <td>1297.0</td>\n",
       "      <td>0.10030</td>\n",
       "    </tr>\n",
       "    <tr>\n",
       "      <th>...</th>\n",
       "      <td>...</td>\n",
       "      <td>...</td>\n",
       "      <td>...</td>\n",
       "      <td>...</td>\n",
       "      <td>...</td>\n",
       "    </tr>\n",
       "    <tr>\n",
       "      <th>564</th>\n",
       "      <td>21.56</td>\n",
       "      <td>22.39</td>\n",
       "      <td>142.00</td>\n",
       "      <td>1479.0</td>\n",
       "      <td>0.11100</td>\n",
       "    </tr>\n",
       "    <tr>\n",
       "      <th>565</th>\n",
       "      <td>20.13</td>\n",
       "      <td>28.25</td>\n",
       "      <td>131.20</td>\n",
       "      <td>1261.0</td>\n",
       "      <td>0.09780</td>\n",
       "    </tr>\n",
       "    <tr>\n",
       "      <th>566</th>\n",
       "      <td>16.60</td>\n",
       "      <td>28.08</td>\n",
       "      <td>108.30</td>\n",
       "      <td>858.1</td>\n",
       "      <td>0.08455</td>\n",
       "    </tr>\n",
       "    <tr>\n",
       "      <th>567</th>\n",
       "      <td>20.60</td>\n",
       "      <td>29.33</td>\n",
       "      <td>140.10</td>\n",
       "      <td>1265.0</td>\n",
       "      <td>0.11780</td>\n",
       "    </tr>\n",
       "    <tr>\n",
       "      <th>568</th>\n",
       "      <td>7.76</td>\n",
       "      <td>24.54</td>\n",
       "      <td>47.92</td>\n",
       "      <td>181.0</td>\n",
       "      <td>0.05263</td>\n",
       "    </tr>\n",
       "  </tbody>\n",
       "</table>\n",
       "<p>569 rows × 5 columns</p>\n",
       "</div>"
      ],
      "text/plain": [
       "         0      1       2       3        4\n",
       "0    17.99  10.38  122.80  1001.0  0.11840\n",
       "1    20.57  17.77  132.90  1326.0  0.08474\n",
       "2    19.69  21.25  130.00  1203.0  0.10960\n",
       "3    11.42  20.38   77.58   386.1  0.14250\n",
       "4    20.29  14.34  135.10  1297.0  0.10030\n",
       "..     ...    ...     ...     ...      ...\n",
       "564  21.56  22.39  142.00  1479.0  0.11100\n",
       "565  20.13  28.25  131.20  1261.0  0.09780\n",
       "566  16.60  28.08  108.30   858.1  0.08455\n",
       "567  20.60  29.33  140.10  1265.0  0.11780\n",
       "568   7.76  24.54   47.92   181.0  0.05263\n",
       "\n",
       "[569 rows x 5 columns]"
      ]
     },
     "execution_count": 17,
     "metadata": {},
     "output_type": "execute_result"
    }
   ],
   "source": [
    "df[[0,1,2,3,4]]"
   ]
  },
  {
   "cell_type": "code",
   "execution_count": 36,
   "id": "66431d8c",
   "metadata": {},
   "outputs": [
    {
     "data": {
      "text/plain": [
       "2"
      ]
     },
     "execution_count": 36,
     "metadata": {},
     "output_type": "execute_result"
    }
   ],
   "source": [
    "X= df[[0,1,2,3,4]].values\n",
    "y = df[5].values"
   ]
  },
  {
   "cell_type": "code",
   "execution_count": null,
   "id": "a34c4424",
   "metadata": {},
   "outputs": [],
   "source": [
    "X_train, X_temp, y_train, y_temp = train_test_split(X, y, test_size=0.33, random_state=42)\n",
    "X_validation, X_test, y_validation, y_test = train_test_split(X_temp, y_temp, test_size=0.5, random_state=42)"
   ]
  },
  {
   "cell_type": "code",
   "execution_count": null,
   "id": "e0f5eb3e",
   "metadata": {},
   "outputs": [],
   "source": [
    "len(np.unique(y_train))"
   ]
  },
  {
   "cell_type": "code",
   "execution_count": 38,
   "id": "57403d85",
   "metadata": {},
   "outputs": [],
   "source": [
    "# Define the architecture of the neural network\n",
    "model = keras.Sequential([\n",
    "    keras.layers.Dense(64, activation='relu', input_shape=(X_train.shape[1],)),\n",
    "    keras.layers.Dense(32, activation='relu'),\n",
    "    keras.layers.Dense(1, activation='sigmoid')\n",
    "])"
   ]
  },
  {
   "cell_type": "code",
   "execution_count": 39,
   "id": "ed1a6c2b",
   "metadata": {},
   "outputs": [],
   "source": [
    "model.compile(optimizer='adam', loss='binary_crossentropy', metrics=['accuracy'])"
   ]
  },
  {
   "cell_type": "code",
   "execution_count": 40,
   "id": "f7f64293",
   "metadata": {},
   "outputs": [
    {
     "data": {
      "text/plain": [
       "(381,)"
      ]
     },
     "execution_count": 40,
     "metadata": {},
     "output_type": "execute_result"
    }
   ],
   "source": [
    "y_train.shape"
   ]
  },
  {
   "cell_type": "code",
   "execution_count": 41,
   "id": "7e62f6eb",
   "metadata": {},
   "outputs": [
    {
     "name": "stdout",
     "output_type": "stream",
     "text": [
      "Epoch 1/50\n",
      "12/12 [==============================] - 1s 20ms/step - loss: 4.3781 - accuracy: 0.6115 - val_loss: 1.4853 - val_accuracy: 0.4681\n",
      "Epoch 2/50\n",
      "12/12 [==============================] - 0s 4ms/step - loss: 1.0598 - accuracy: 0.6562 - val_loss: 0.5053 - val_accuracy: 0.8404\n",
      "Epoch 3/50\n",
      "12/12 [==============================] - 0s 4ms/step - loss: 0.6396 - accuracy: 0.7769 - val_loss: 0.6912 - val_accuracy: 0.7660\n",
      "Epoch 4/50\n",
      "12/12 [==============================] - 0s 4ms/step - loss: 0.4572 - accuracy: 0.8005 - val_loss: 0.3647 - val_accuracy: 0.8723\n",
      "Epoch 5/50\n",
      "12/12 [==============================] - 0s 4ms/step - loss: 0.3786 - accuracy: 0.8530 - val_loss: 0.2923 - val_accuracy: 0.8404\n",
      "Epoch 6/50\n",
      "12/12 [==============================] - 0s 4ms/step - loss: 0.4346 - accuracy: 0.8346 - val_loss: 0.6488 - val_accuracy: 0.7766\n",
      "Epoch 7/50\n",
      "12/12 [==============================] - 0s 5ms/step - loss: 0.5278 - accuracy: 0.7953 - val_loss: 0.3922 - val_accuracy: 0.8298\n",
      "Epoch 8/50\n",
      "12/12 [==============================] - 0s 4ms/step - loss: 0.4123 - accuracy: 0.8399 - val_loss: 0.3295 - val_accuracy: 0.8936\n",
      "Epoch 9/50\n",
      "12/12 [==============================] - 0s 4ms/step - loss: 0.4011 - accuracy: 0.8478 - val_loss: 0.2635 - val_accuracy: 0.8723\n",
      "Epoch 10/50\n",
      "12/12 [==============================] - 0s 4ms/step - loss: 0.3465 - accuracy: 0.8635 - val_loss: 0.2943 - val_accuracy: 0.8298\n",
      "Epoch 11/50\n",
      "12/12 [==============================] - 0s 4ms/step - loss: 0.3589 - accuracy: 0.8556 - val_loss: 0.3328 - val_accuracy: 0.8936\n",
      "Epoch 12/50\n",
      "12/12 [==============================] - 0s 3ms/step - loss: 0.3783 - accuracy: 0.8530 - val_loss: 0.3523 - val_accuracy: 0.8404\n",
      "Epoch 13/50\n",
      "12/12 [==============================] - 0s 5ms/step - loss: 0.3820 - accuracy: 0.8346 - val_loss: 0.4224 - val_accuracy: 0.8298\n",
      "Epoch 14/50\n",
      "12/12 [==============================] - 0s 3ms/step - loss: 0.3915 - accuracy: 0.8399 - val_loss: 0.2605 - val_accuracy: 0.8723\n",
      "Epoch 15/50\n",
      "12/12 [==============================] - 0s 4ms/step - loss: 0.3958 - accuracy: 0.8478 - val_loss: 0.4527 - val_accuracy: 0.8085\n",
      "Epoch 16/50\n",
      "12/12 [==============================] - 0s 4ms/step - loss: 0.4479 - accuracy: 0.8163 - val_loss: 0.3577 - val_accuracy: 0.8404\n",
      "Epoch 17/50\n",
      "12/12 [==============================] - 0s 4ms/step - loss: 0.8422 - accuracy: 0.7034 - val_loss: 0.6883 - val_accuracy: 0.7660\n",
      "Epoch 18/50\n",
      "12/12 [==============================] - 0s 4ms/step - loss: 0.6624 - accuracy: 0.7900 - val_loss: 0.9185 - val_accuracy: 0.6277\n",
      "Epoch 19/50\n",
      "12/12 [==============================] - 0s 4ms/step - loss: 0.5174 - accuracy: 0.8031 - val_loss: 0.4978 - val_accuracy: 0.8298\n",
      "Epoch 20/50\n",
      "12/12 [==============================] - 0s 3ms/step - loss: 0.4433 - accuracy: 0.8241 - val_loss: 0.2845 - val_accuracy: 0.9043\n",
      "Epoch 21/50\n",
      "12/12 [==============================] - 0s 3ms/step - loss: 0.3881 - accuracy: 0.8373 - val_loss: 0.2618 - val_accuracy: 0.8723\n",
      "Epoch 22/50\n",
      "12/12 [==============================] - 0s 3ms/step - loss: 0.3857 - accuracy: 0.8268 - val_loss: 0.3738 - val_accuracy: 0.8723\n",
      "Epoch 23/50\n",
      "12/12 [==============================] - 0s 3ms/step - loss: 0.3544 - accuracy: 0.8478 - val_loss: 0.2767 - val_accuracy: 0.8936\n",
      "Epoch 24/50\n",
      "12/12 [==============================] - 0s 4ms/step - loss: 0.3624 - accuracy: 0.8609 - val_loss: 0.2593 - val_accuracy: 0.8723\n",
      "Epoch 25/50\n",
      "12/12 [==============================] - 0s 3ms/step - loss: 0.3948 - accuracy: 0.8399 - val_loss: 0.3354 - val_accuracy: 0.8830\n",
      "Epoch 26/50\n",
      "12/12 [==============================] - 0s 3ms/step - loss: 0.3507 - accuracy: 0.8451 - val_loss: 0.2749 - val_accuracy: 0.8511\n",
      "Epoch 27/50\n",
      "12/12 [==============================] - 0s 5ms/step - loss: 0.3867 - accuracy: 0.8478 - val_loss: 0.3368 - val_accuracy: 0.8511\n",
      "Epoch 28/50\n",
      "12/12 [==============================] - 0s 4ms/step - loss: 0.3828 - accuracy: 0.8504 - val_loss: 0.2607 - val_accuracy: 0.8830\n",
      "Epoch 29/50\n",
      "12/12 [==============================] - 0s 4ms/step - loss: 0.3470 - accuracy: 0.8635 - val_loss: 0.3985 - val_accuracy: 0.8404\n",
      "Epoch 30/50\n",
      "12/12 [==============================] - 0s 4ms/step - loss: 0.3617 - accuracy: 0.8425 - val_loss: 0.2774 - val_accuracy: 0.8511\n",
      "Epoch 31/50\n",
      "12/12 [==============================] - 0s 5ms/step - loss: 0.3783 - accuracy: 0.8320 - val_loss: 0.3136 - val_accuracy: 0.8404\n",
      "Epoch 32/50\n",
      "12/12 [==============================] - 0s 4ms/step - loss: 0.3537 - accuracy: 0.8583 - val_loss: 0.3263 - val_accuracy: 0.8830\n",
      "Epoch 33/50\n",
      "12/12 [==============================] - 0s 3ms/step - loss: 0.3373 - accuracy: 0.8635 - val_loss: 0.3575 - val_accuracy: 0.8511\n",
      "Epoch 34/50\n",
      "12/12 [==============================] - 0s 3ms/step - loss: 0.3715 - accuracy: 0.8504 - val_loss: 0.2773 - val_accuracy: 0.8617\n",
      "Epoch 35/50\n",
      "12/12 [==============================] - 0s 4ms/step - loss: 0.3306 - accuracy: 0.8740 - val_loss: 0.2581 - val_accuracy: 0.8723\n",
      "Epoch 36/50\n",
      "12/12 [==============================] - 0s 3ms/step - loss: 0.4151 - accuracy: 0.8294 - val_loss: 0.3174 - val_accuracy: 0.8404\n",
      "Epoch 37/50\n",
      "12/12 [==============================] - 0s 4ms/step - loss: 0.5085 - accuracy: 0.7927 - val_loss: 0.2801 - val_accuracy: 0.8617\n",
      "Epoch 38/50\n",
      "12/12 [==============================] - 0s 5ms/step - loss: 0.3404 - accuracy: 0.8530 - val_loss: 0.3754 - val_accuracy: 0.8404\n",
      "Epoch 39/50\n",
      "12/12 [==============================] - 0s 4ms/step - loss: 0.3793 - accuracy: 0.8346 - val_loss: 0.3216 - val_accuracy: 0.8830\n",
      "Epoch 40/50\n",
      "12/12 [==============================] - 0s 3ms/step - loss: 0.3780 - accuracy: 0.8425 - val_loss: 0.3823 - val_accuracy: 0.8617\n",
      "Epoch 41/50\n",
      "12/12 [==============================] - 0s 3ms/step - loss: 0.4197 - accuracy: 0.8215 - val_loss: 0.3101 - val_accuracy: 0.8404\n",
      "Epoch 42/50\n",
      "12/12 [==============================] - 0s 4ms/step - loss: 0.5036 - accuracy: 0.8110 - val_loss: 0.4001 - val_accuracy: 0.8404\n",
      "Epoch 43/50\n",
      "12/12 [==============================] - 0s 3ms/step - loss: 0.4801 - accuracy: 0.8005 - val_loss: 1.0514 - val_accuracy: 0.7021\n",
      "Epoch 44/50\n",
      "12/12 [==============================] - 0s 4ms/step - loss: 0.4991 - accuracy: 0.8136 - val_loss: 0.9040 - val_accuracy: 0.6383\n",
      "Epoch 45/50\n",
      "12/12 [==============================] - 0s 4ms/step - loss: 0.8494 - accuracy: 0.7297 - val_loss: 1.9800 - val_accuracy: 0.6596\n",
      "Epoch 46/50\n",
      "12/12 [==============================] - 0s 4ms/step - loss: 0.6243 - accuracy: 0.8136 - val_loss: 0.3651 - val_accuracy: 0.8404\n",
      "Epoch 47/50\n",
      "12/12 [==============================] - 0s 4ms/step - loss: 0.3567 - accuracy: 0.8320 - val_loss: 0.2892 - val_accuracy: 0.9043\n",
      "Epoch 48/50\n",
      "12/12 [==============================] - 0s 4ms/step - loss: 0.3824 - accuracy: 0.8609 - val_loss: 0.2590 - val_accuracy: 0.8723\n",
      "Epoch 49/50\n",
      "12/12 [==============================] - 0s 4ms/step - loss: 0.3391 - accuracy: 0.8740 - val_loss: 0.2691 - val_accuracy: 0.8936\n",
      "Epoch 50/50\n",
      "12/12 [==============================] - 0s 4ms/step - loss: 0.3459 - accuracy: 0.8504 - val_loss: 0.3361 - val_accuracy: 0.8511\n"
     ]
    },
    {
     "data": {
      "text/plain": [
       "<keras.src.callbacks.History at 0x1e5b2671350>"
      ]
     },
     "execution_count": 41,
     "metadata": {},
     "output_type": "execute_result"
    }
   ],
   "source": [
    "model.fit(\n",
    "    X_train,\n",
    "    y_train,\n",
    "    epochs=50,\n",
    "    batch_size=32,\n",
    "    validation_data=(X_validation, y_validation),\n",
    "    verbose=1\n",
    ")\n"
   ]
  },
  {
   "cell_type": "code",
   "execution_count": 44,
   "id": "43a22bd6",
   "metadata": {},
   "outputs": [
    {
     "name": "stdout",
     "output_type": "stream",
     "text": [
      "3/3 [==============================] - 0s 8ms/step\n"
     ]
    }
   ],
   "source": [
    "# probability to binary\n",
    "y_pred = (model.predict(X_test) > 0.5).astype(int)"
   ]
  },
  {
   "cell_type": "code",
   "execution_count": 46,
   "id": "11182b82",
   "metadata": {},
   "outputs": [
    {
     "data": {
      "text/plain": [
       "array([0, 1, 1, 0, 0, 1, 1, 1, 1, 0, 1, 0, 1, 0, 1, 0, 0, 1, 1, 0, 1, 1,\n",
       "       1, 0, 0, 1, 0, 1, 1, 0, 1, 1, 1, 1, 1, 1, 1, 1, 1, 1, 1, 1, 1, 1,\n",
       "       0, 1, 1, 1, 1, 1, 0, 0, 0, 0, 0, 1, 0, 1, 1, 1, 0, 1, 0, 0, 1, 1,\n",
       "       0, 1, 0, 1, 0, 1, 1, 1, 0, 1, 0, 0, 1, 1, 1, 1, 1, 0, 1, 1, 1, 1,\n",
       "       1, 0, 1, 1, 1, 0], dtype=int64)"
      ]
     },
     "execution_count": 46,
     "metadata": {},
     "output_type": "execute_result"
    }
   ],
   "source": [
    "y_pred\n",
    "y_test"
   ]
  },
  {
   "cell_type": "code",
   "execution_count": 47,
   "id": "395baa93",
   "metadata": {},
   "outputs": [
    {
     "name": "stdout",
     "output_type": "stream",
     "text": [
      "Test Accuracy: 0.851063829787234\n"
     ]
    }
   ],
   "source": [
    "test_accuracy = accuracy_score(y_test, y_pred)\n",
    "print(\"Test Accuracy:\", test_accuracy)"
   ]
  }
 ],
 "metadata": {
  "kernelspec": {
   "display_name": "Python 3 (ipykernel)",
   "language": "python",
   "name": "python3"
  },
  "language_info": {
   "codemirror_mode": {
    "name": "ipython",
    "version": 3
   },
   "file_extension": ".py",
   "mimetype": "text/x-python",
   "name": "python",
   "nbconvert_exporter": "python",
   "pygments_lexer": "ipython3",
   "version": "3.11.4"
  }
 },
 "nbformat": 4,
 "nbformat_minor": 5
}
